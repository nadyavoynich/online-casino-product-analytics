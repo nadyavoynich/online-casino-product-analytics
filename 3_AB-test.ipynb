{
 "cells": [
  {
   "cell_type": "markdown",
   "id": "cffc93bf",
   "metadata": {},
   "source": [
    "# Online Casino Product Analytics\n",
    "## A/B Test Perfromance Review"
   ]
  },
  {
   "cell_type": "markdown",
   "id": "0894d1b9",
   "metadata": {},
   "source": [
    "### Part 1\n",
    "\n",
    "$events$ - посещение пользователем сайта\n",
    "- $user\\_id$ - id юзера,\n",
    "- $user\\_group$ - группа A/B-теста,\n",
    "- $time$ - время совершения действия,\n",
    "\n",
    "Пользовательская сессия определяется по следующим правилам:\n",
    "<br>\n",
    "1. Новая сессия начинается после 30 минут бездействия.\n",
    "\n",
    "<b>Постройте таблицу с сессиями юзеров в формате<b>:\n",
    "<br>\n",
    "- $user\\_id$ - id юзера\n",
    "- $ab\\_group$ - группа A/B-теста,\n",
    "- $session\\_start$ - время старта сессии,\n",
    "- $session\\_end$ - время окончания сессии,\n",
    "- $session\\_date$ - дата сессии.\n"
   ]
  },
  {
   "cell_type": "markdown",
   "id": "7aa8b58c",
   "metadata": {},
   "source": [
    "### Part 2\n",
    "\n",
    "Был проведен A/B-тест.\n",
    "<br>\n",
    "В качестве данных используйте таблицу, построенную в предыдущем задании. Первая сессия юзера считается моментом попадания в A/B-тест.\n",
    "<br><br>\n",
    "Ключевая метрика эксперимента - конверсия во вторую сессию.\n",
    "<br>\n",
    "Сделайте вывод о том, какая группа выиграла в A/B-тесте. Ответ обоснуйте.\n",
    "<br>"
   ]
  },
  {
   "cell_type": "code",
   "execution_count": null,
   "id": "08691406",
   "metadata": {},
   "outputs": [],
   "source": []
  },
  {
   "cell_type": "code",
   "execution_count": null,
   "id": "da0f8051",
   "metadata": {},
   "outputs": [],
   "source": []
  },
  {
   "cell_type": "code",
   "execution_count": null,
   "id": "34d19711",
   "metadata": {},
   "outputs": [],
   "source": []
  }
 ],
 "metadata": {
  "kernelspec": {
   "display_name": "Python 3 (ipykernel)",
   "language": "python",
   "name": "python3"
  },
  "language_info": {
   "codemirror_mode": {
    "name": "ipython",
    "version": 3
   },
   "file_extension": ".py",
   "mimetype": "text/x-python",
   "name": "python",
   "nbconvert_exporter": "python",
   "pygments_lexer": "ipython3",
   "version": "3.9.13"
  }
 },
 "nbformat": 4,
 "nbformat_minor": 5
}
